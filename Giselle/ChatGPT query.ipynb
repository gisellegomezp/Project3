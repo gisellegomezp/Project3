{
 "cells": [
  {
   "cell_type": "code",
   "execution_count": 2,
   "metadata": {},
   "outputs": [],
   "source": [
    "# Imports for loading environment variables.\n",
    "from dotenv import load_dotenv\n",
    "import os"
   ]
  },
  {
   "cell_type": "code",
   "execution_count": 11,
   "metadata": {},
   "outputs": [],
   "source": [
    "# Load environment variables.\n",
    "load_dotenv()\n",
    "# Set the model name for our LLMs.\n",
    "OPENAI_MODEL = \"gpt-4o\"\n",
    "# Store the API key in a variable.\n",
    "OPENAI_API_KEY = os.getenv(\"OPENAI_API_KEY\")"
   ]
  },
  {
   "cell_type": "code",
   "execution_count": 16,
   "metadata": {},
   "outputs": [],
   "source": [
    "from openai import OpenAI\n",
    "client = OpenAI()\n",
    "\n",
    "client.api_key = OPENAI_API_KEY\n",
    "\n",
    "def get_chatgpt_recommendations(prompt):\n",
    "    try:\n",
    "        response = client.chat.completions.create( model=OPENAI_MODEL,\n",
    "                                                    messages=[ {\"role\": \"user\", \"content\": prompt} ] ) \n",
    "        return response.choices[0].message.content \n",
    "    except Exception as e: \n",
    "        print(f\"An unexpected error occurred: {e}\")\n",
    "\n",
    "from vaderSentiment.vaderSentiment import SentimentIntensityAnalyzer\n",
    "\n",
    "def analyze_review_sentiment(review_text):\n",
    "    analyzer = SentimentIntensityAnalyzer()\n",
    "    return analyzer.polarity_scores(review_text)['compound']"
   ]
  },
  {
   "cell_type": "code",
   "execution_count": 15,
   "metadata": {},
   "outputs": [
    {
     "name": "stdout",
     "output_type": "stream",
     "text": [
      "Sentiment Analysis: 0.8437\n",
      "Product Recommendation: Choosing the best sneakers largely depends on your needs, preferences, and style. However, some sneakers are widely acclaimed for their comfort, design, and performance across various categories. Here are a few recommendations:\n",
      "\n",
      "1. **Nike Air Max 270** - Known for its comfort and sleek design, the Air Max 270 has a large air unit that offers excellent cushioning and support.\n",
      "\n",
      "2. **Adidas Ultraboost 21** - With its plush cushioning and stylish look, the Ultraboost is a favorite for both runners and casual wearers.\n",
      "\n",
      "3. **New Balance 990v5** - A classic silhouette with a blend of comfort, quality, and style, it's suitable for everyday wear and has a strong following.\n",
      "\n",
      "4. **Converse Chuck Taylor All Star** - An iconic sneaker that never goes out of style, perfect for a casual look.\n",
      "\n",
      "5. **Vans Old Skool** - Known for their durability and timeless design, Vans are excellent for skateboarding and street style.\n",
      "\n",
      "6. **Hoka One One Clifton 8** - Renowned for their cushioning and comfort, Hoka sneakers are great for long-distance running or standing for extended periods.\n",
      "\n",
      "7. **On Cloud 5** - Known for their unique design and comfort, making them a great choice for both athletic endeavors and casual wear.\n",
      "\n",
      "8. **Puma RS-X** - Offers a bold and chunky aesthetic with a retro vibe, combined with contemporary comfort features.\n",
      "\n",
      "9. **Reebok Club C 85** - A classic sneaker with a minimalist design, perfect for a clean and versatile look.\n",
      "\n",
      "10. **ASICS Gel-Kayano 28** - Excellent for those who need a sneaker with stability and support, ideal for running.\n",
      "\n",
      "When choosing sneakers, consider what you need them for—running, walking, everyday wear, or fashion. Also, think about your foot type and any specific support or cushioning you might need. Trying on different models to see what fits and feels best is always a good idea.\n"
     ]
    }
   ],
   "source": [
    "review = \"I absolutely love these shoes, they are the most comfortable sneakers I have ever owned.\"\n",
    "print(\"Sentiment Analysis:\", analyze_review_sentiment(review))\n",
    "print(\"Product Recommendation:\", get_chatgpt_recommendations(\"Recommend me the best sneakers.\"))"
   ]
  }
 ],
 "metadata": {
  "kernelspec": {
   "display_name": "base",
   "language": "python",
   "name": "python3"
  },
  "language_info": {
   "codemirror_mode": {
    "name": "ipython",
    "version": 3
   },
   "file_extension": ".py",
   "mimetype": "text/x-python",
   "name": "python",
   "nbconvert_exporter": "python",
   "pygments_lexer": "ipython3",
   "version": "3.11.7"
  }
 },
 "nbformat": 4,
 "nbformat_minor": 4
}
