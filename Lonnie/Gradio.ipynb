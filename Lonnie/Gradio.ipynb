{
 "cells": [
  {
   "cell_type": "code",
   "execution_count": 1,
   "metadata": {},
   "outputs": [
    {
     "name": "stderr",
     "output_type": "stream",
     "text": [
      "No model was supplied, defaulted to distilbert/distilbert-base-uncased-finetuned-sst-2-english and revision 714eb0f (https://huggingface.co/distilbert/distilbert-base-uncased-finetuned-sst-2-english).\n",
      "Using a pipeline without specifying a model name and revision in production is not recommended.\n"
     ]
    },
    {
     "data": {
      "application/vnd.jupyter.widget-view+json": {
       "model_id": "b1da8695887e4d7296a87e050c92ebde",
       "version_major": 2,
       "version_minor": 0
      },
      "text/plain": [
       "config.json:   0%|          | 0.00/629 [00:00<?, ?B/s]"
      ]
     },
     "metadata": {},
     "output_type": "display_data"
    },
    {
     "name": "stderr",
     "output_type": "stream",
     "text": [
      "c:\\Users\\lonni\\anaconda3\\envs\\dev\\lib\\site-packages\\huggingface_hub\\file_download.py:147: UserWarning: `huggingface_hub` cache-system uses symlinks by default to efficiently store duplicated files but your machine does not support them in C:\\Users\\lonni\\.cache\\huggingface\\hub\\models--distilbert--distilbert-base-uncased-finetuned-sst-2-english. Caching files will still work but in a degraded version that might require more space on your disk. This warning can be disabled by setting the `HF_HUB_DISABLE_SYMLINKS_WARNING` environment variable. For more details, see https://huggingface.co/docs/huggingface_hub/how-to-cache#limitations.\n",
      "To support symlinks on Windows, you either need to activate Developer Mode or to run Python as an administrator. In order to activate developer mode, see this article: https://docs.microsoft.com/en-us/windows/apps/get-started/enable-your-device-for-development\n",
      "  warnings.warn(message)\n"
     ]
    },
    {
     "name": "stdout",
     "output_type": "stream",
     "text": [
      "WARNING:tensorflow:From c:\\Users\\lonni\\anaconda3\\envs\\dev\\lib\\site-packages\\tf_keras\\src\\losses.py:2976: The name tf.losses.sparse_softmax_cross_entropy is deprecated. Please use tf.compat.v1.losses.sparse_softmax_cross_entropy instead.\n",
      "\n"
     ]
    },
    {
     "data": {
      "application/vnd.jupyter.widget-view+json": {
       "model_id": "64377592a8aa43ea81debde549f0d8ab",
       "version_major": 2,
       "version_minor": 0
      },
      "text/plain": [
       "model.safetensors:   0%|          | 0.00/268M [00:00<?, ?B/s]"
      ]
     },
     "metadata": {},
     "output_type": "display_data"
    },
    {
     "data": {
      "application/vnd.jupyter.widget-view+json": {
       "model_id": "c69b16ba8e5149d6818c36e23514d27a",
       "version_major": 2,
       "version_minor": 0
      },
      "text/plain": [
       "tokenizer_config.json:   0%|          | 0.00/48.0 [00:00<?, ?B/s]"
      ]
     },
     "metadata": {},
     "output_type": "display_data"
    },
    {
     "data": {
      "application/vnd.jupyter.widget-view+json": {
       "model_id": "fa248ba300214a7b8b0118e38a964bc3",
       "version_major": 2,
       "version_minor": 0
      },
      "text/plain": [
       "vocab.txt:   0%|          | 0.00/232k [00:00<?, ?B/s]"
      ]
     },
     "metadata": {},
     "output_type": "display_data"
    },
    {
     "name": "stdout",
     "output_type": "stream",
     "text": [
      "Running on local URL:  http://127.0.0.1:7860\n",
      "\n",
      "To create a public link, set `share=True` in `launch()`.\n"
     ]
    },
    {
     "data": {
      "text/html": [
       "<div><iframe src=\"http://127.0.0.1:7860/\" width=\"100%\" height=\"500\" allow=\"autoplay; camera; microphone; clipboard-read; clipboard-write;\" frameborder=\"0\" allowfullscreen></iframe></div>"
      ],
      "text/plain": [
       "<IPython.core.display.HTML object>"
      ]
     },
     "metadata": {},
     "output_type": "display_data"
    },
    {
     "data": {
      "text/plain": []
     },
     "execution_count": 1,
     "metadata": {},
     "output_type": "execute_result"
    }
   ],
   "source": [
    "import gradio as gr\n",
    "from transformers import pipeline\n",
    "\n",
    "# Load Hugging Face's pre-trained model\n",
    "sentiment_model = pipeline('sentiment-analysis')\n",
    "\n",
    "# Define the function that will take in a review and return the sentiment score\n",
    "def analyze_sentiment(review_text):\n",
    "    result = sentiment_model(review_text)\n",
    "    return result[0]['label'], result[0]['score']\n",
    "\n",
    "# Create the Gradio interface\n",
    "interface = gr.Interface(\n",
    "    fn=analyze_sentiment,                      # The function to call\n",
    "    inputs=\"text\",                             # Input is a text box\n",
    "    outputs=[\"text\", \"number\"],                # Output is the sentiment label and score\n",
    "    title=\"Sentiment Analysis of Product Reviews\",\n",
    "    description=\"Enter a product review to analyze its sentiment.\"\n",
    ")\n",
    "\n",
    "# Launch the interface\n",
    "interface.launch()\n"
   ]
  },
  {
   "cell_type": "code",
   "execution_count": 2,
   "metadata": {},
   "outputs": [
    {
     "name": "stderr",
     "output_type": "stream",
     "text": [
      "No model was supplied, defaulted to distilbert/distilbert-base-uncased-finetuned-sst-2-english and revision 714eb0f (https://huggingface.co/distilbert/distilbert-base-uncased-finetuned-sst-2-english).\n",
      "Using a pipeline without specifying a model name and revision in production is not recommended.\n"
     ]
    },
    {
     "name": "stdout",
     "output_type": "stream",
     "text": [
      "Running on local URL:  http://127.0.0.1:7861\n",
      "\n",
      "To create a public link, set `share=True` in `launch()`.\n"
     ]
    },
    {
     "data": {
      "text/html": [
       "<div><iframe src=\"http://127.0.0.1:7861/\" width=\"100%\" height=\"500\" allow=\"autoplay; camera; microphone; clipboard-read; clipboard-write;\" frameborder=\"0\" allowfullscreen></iframe></div>"
      ],
      "text/plain": [
       "<IPython.core.display.HTML object>"
      ]
     },
     "metadata": {},
     "output_type": "display_data"
    },
    {
     "data": {
      "text/plain": []
     },
     "execution_count": 2,
     "metadata": {},
     "output_type": "execute_result"
    }
   ],
   "source": [
    "import gradio as gr\n",
    "from transformers import pipeline\n",
    "\n",
    "# Load the sentiment analysis model\n",
    "sentiment_model = pipeline('sentiment-analysis')\n",
    "\n",
    "# Define the function to categorize sentiment\n",
    "def analyze_sentiment(review_text):\n",
    "    result = sentiment_model(review_text)\n",
    "    label = result[0]['label']\n",
    "    score = result[0]['score']\n",
    "\n",
    "    # Convert the score into granular sentiment categories\n",
    "    if label == 'POSITIVE':\n",
    "        if score >= 0.9:\n",
    "            sentiment = 'Very Positive'\n",
    "        else:\n",
    "            sentiment = 'Positive'\n",
    "    elif label == 'NEGATIVE':\n",
    "        if score >= 0.9:\n",
    "            sentiment = 'Very Negative'\n",
    "        else:\n",
    "            sentiment = 'Negative'\n",
    "    else:\n",
    "        sentiment = 'Neutral'\n",
    "\n",
    "    return sentiment, score\n",
    "\n",
    "# Create the Gradio interface\n",
    "interface = gr.Interface(\n",
    "    fn=analyze_sentiment,                      # The function to call\n",
    "    inputs=\"text\",                             # Input is a text box\n",
    "    outputs=[\"text\", \"number\"],                # Output is the sentiment label and score\n",
    "    title=\"Sentiment Analysis of Product Reviews\",\n",
    "    description=\"Enter a product review to analyze its sentiment.\"\n",
    ")\n",
    "\n",
    "# Launch the interface\n",
    "interface.launch()\n"
   ]
  },
  {
   "cell_type": "code",
   "execution_count": 4,
   "metadata": {},
   "outputs": [
    {
     "name": "stderr",
     "output_type": "stream",
     "text": [
      "No model was supplied, defaulted to distilbert/distilbert-base-uncased-finetuned-sst-2-english and revision 714eb0f (https://huggingface.co/distilbert/distilbert-base-uncased-finetuned-sst-2-english).\n",
      "Using a pipeline without specifying a model name and revision in production is not recommended.\n",
      "c:\\Users\\lonni\\anaconda3\\envs\\dev\\lib\\site-packages\\gradio\\blocks.py:982: UserWarning: Cannot load compact. Caught Exception: module 'huggingface_hub.utils' has no attribute '_errors'\n",
      "  warnings.warn(f\"Cannot load {theme}. Caught Exception: {str(e)}\")\n"
     ]
    },
    {
     "name": "stdout",
     "output_type": "stream",
     "text": [
      "Running on local URL:  http://127.0.0.1:7862\n",
      "\n",
      "To create a public link, set `share=True` in `launch()`.\n"
     ]
    },
    {
     "data": {
      "text/html": [
       "<div><iframe src=\"http://127.0.0.1:7862/\" width=\"100%\" height=\"500\" allow=\"autoplay; camera; microphone; clipboard-read; clipboard-write;\" frameborder=\"0\" allowfullscreen></iframe></div>"
      ],
      "text/plain": [
       "<IPython.core.display.HTML object>"
      ]
     },
     "metadata": {},
     "output_type": "display_data"
    },
    {
     "data": {
      "text/plain": []
     },
     "execution_count": 4,
     "metadata": {},
     "output_type": "execute_result"
    }
   ],
   "source": [
    "import gradio as gr\n",
    "from transformers import pipeline\n",
    "\n",
    "# Load the sentiment analysis model\n",
    "sentiment_model = pipeline('sentiment-analysis')\n",
    "\n",
    "# Define the function to categorize sentiment\n",
    "def analyze_sentiment(review_text):\n",
    "    result = sentiment_model(review_text)\n",
    "    label = result[0]['label']\n",
    "    score = result[0]['score']\n",
    "\n",
    "    # Convert the score into granular sentiment categories\n",
    "    if label == 'POSITIVE':\n",
    "        if score >= 0.9:\n",
    "            sentiment = 'Very Positive'\n",
    "        else:\n",
    "            sentiment = 'Positive'\n",
    "    elif label == 'NEGATIVE':\n",
    "        if score >= 0.9:\n",
    "            sentiment = 'Very Negative'\n",
    "        else:\n",
    "            sentiment = 'Negative'\n",
    "    else:\n",
    "        sentiment = 'Neutral'\n",
    "\n",
    "    return sentiment, score\n",
    "\n",
    "# Interface with custom labels and a clean layout\n",
    "interface = gr.Interface(\n",
    "    fn=analyze_sentiment,\n",
    "    inputs=gr.Textbox(lines=5, placeholder=\"Enter the product review here...\"),\n",
    "    outputs=[\n",
    "        gr.Textbox(label=\"Sentiment Category\"),\n",
    "        gr.Label(label=\"Confidence Score\")\n",
    "    ],\n",
    "    title=\"Customer Review Sentiment Analysis\",\n",
    "    description=\"\"\"\n",
    "    This tool analyzes customer product reviews and classifies the sentiment into five categories:\n",
    "    Very Positive, Positive, Neutral, Negative, and Very Negative. Enter a product review to see the sentiment score.\n",
    "    \"\"\",\n",
    "    theme=\"compact\"  # Use Gradio's built-in theme for a cleaner look\n",
    ")\n",
    "\n",
    "# Launch the interface\n",
    "interface.launch()\n"
   ]
  },
  {
   "cell_type": "code",
   "execution_count": 5,
   "metadata": {},
   "outputs": [
    {
     "name": "stderr",
     "output_type": "stream",
     "text": [
      "<>:23: SyntaxWarning: \"is\" with a literal. Did you mean \"==\"?\n",
      "<>:23: SyntaxWarning: \"is\" with a literal. Did you mean \"==\"?\n",
      "No model was supplied, defaulted to distilbert/distilbert-base-uncased-finetuned-sst-2-english and revision 714eb0f (https://huggingface.co/distilbert/distilbert-base-uncased-finetuned-sst-2-english).\n",
      "Using a pipeline without specifying a model name and revision in production is not recommended.\n",
      "C:\\Users\\lonni\\AppData\\Local\\Temp\\ipykernel_32508\\1603155749.py:23: SyntaxWarning: \"is\" with a literal. Did you mean \"==\"?\n",
      "  sentiment is 'Negative'\n",
      "c:\\Users\\lonni\\anaconda3\\envs\\dev\\lib\\site-packages\\gradio\\blocks.py:982: UserWarning: Cannot load compact. Caught Exception: module 'huggingface_hub.utils' has no attribute '_errors'\n",
      "  warnings.warn(f\"Cannot load {theme}. Caught Exception: {str(e)}\")\n"
     ]
    },
    {
     "name": "stdout",
     "output_type": "stream",
     "text": [
      "Running on local URL:  http://127.0.0.1:7863\n",
      "\n",
      "To create a public link, set `share=True` in `launch()`.\n"
     ]
    },
    {
     "data": {
      "text/html": [
       "<div><iframe src=\"http://127.0.0.1:7863/\" width=\"100%\" height=\"500\" allow=\"autoplay; camera; microphone; clipboard-read; clipboard-write;\" frameborder=\"0\" allowfullscreen></iframe></div>"
      ],
      "text/plain": [
       "<IPython.core.display.HTML object>"
      ]
     },
     "metadata": {},
     "output_type": "display_data"
    },
    {
     "data": {
      "text/plain": []
     },
     "execution_count": 5,
     "metadata": {},
     "output_type": "execute_result"
    }
   ],
   "source": [
    "import gradio as gr\n",
    "from transformers import pipeline\n",
    "\n",
    "# Load the sentiment analysis model\n",
    "sentiment_model = pipeline('sentiment-analysis')\n",
    "\n",
    "# Define the function to categorize sentiment\n",
    "def analyze_sentiment(review_text):\n",
    "    result = sentiment_model(review_text)\n",
    "    label = result[0]['label']\n",
    "    score = result[0]['score']\n",
    "\n",
    "    # Convert the score into granular sentiment categories\n",
    "    if label == 'POSITIVE':\n",
    "        if score >= 0.9:\n",
    "            sentiment = 'Very Positive'\n",
    "        else:\n",
    "            sentiment = 'Positive'\n",
    "    elif label == 'NEGATIVE':\n",
    "        if score >= 0.9:\n",
    "            sentiment = 'Very Negative'\n",
    "        else:\n",
    "            sentiment is 'Negative'\n",
    "\n",
    "    return sentiment, score\n",
    "\n",
    "# Custom CSS for buttons\n",
    "custom_css = \"\"\"\n",
    ".gr-button {\n",
    "    background-color: #4CAF50 !important;  /* Brighter green color */\n",
    "    color: white !important;               /* White text */\n",
    "    border-radius: 8px !important;         /* Rounded corners */\n",
    "    padding: 10px 24px !important;         /* Padding */\n",
    "    font-size: 16px !important;            /* Larger text */\n",
    "}\n",
    "\"\"\"\n",
    "\n",
    "# Interface with custom button color and labels\n",
    "interface = gr.Interface(\n",
    "    fn=analyze_sentiment,\n",
    "    inputs=gr.Textbox(lines=5, placeholder=\"Enter the product review here...\"),\n",
    "    outputs=[\n",
    "        gr.Textbox(label=\"Sentiment Category\"),\n",
    "        gr.Label(label=\"Confidence Score\")\n",
    "    ],\n",
    "    title=\"Customer Review Sentiment Analysis\",\n",
    "    description=\"\"\"\n",
    "    This tool analyzes customer product reviews and classifies the sentiment into five categories:\n",
    "    Very Positive, Positive, Neutral, Negative, and Very Negative. Enter a product review to see the sentiment score.\n",
    "    \"\"\",\n",
    "    theme=\"compact\",  # Use Gradio's built-in theme for a cleaner look\n",
    "    css=custom_css  # Apply custom CSS for button styling\n",
    ")\n",
    "\n",
    "# Launch the interface\n",
    "interface.launch()\n"
   ]
  },
  {
   "cell_type": "code",
   "execution_count": 9,
   "metadata": {},
   "outputs": [
    {
     "name": "stderr",
     "output_type": "stream",
     "text": [
      "No model was supplied, defaulted to distilbert/distilbert-base-uncased-finetuned-sst-2-english and revision 714eb0f (https://huggingface.co/distilbert/distilbert-base-uncased-finetuned-sst-2-english).\n",
      "Using a pipeline without specifying a model name and revision in production is not recommended.\n"
     ]
    },
    {
     "name": "stdout",
     "output_type": "stream",
     "text": [
      "Running on local URL:  http://127.0.0.1:7867\n",
      "\n",
      "To create a public link, set `share=True` in `launch()`.\n"
     ]
    },
    {
     "data": {
      "text/html": [
       "<div><iframe src=\"http://127.0.0.1:7867/\" width=\"100%\" height=\"500\" allow=\"autoplay; camera; microphone; clipboard-read; clipboard-write;\" frameborder=\"0\" allowfullscreen></iframe></div>"
      ],
      "text/plain": [
       "<IPython.core.display.HTML object>"
      ]
     },
     "metadata": {},
     "output_type": "display_data"
    },
    {
     "data": {
      "text/plain": []
     },
     "execution_count": 9,
     "metadata": {},
     "output_type": "execute_result"
    }
   ],
   "source": [
    "import gradio as gr\n",
    "from transformers import pipeline\n",
    "\n",
    "# Load the sentiment analysis model\n",
    "sentiment_model = pipeline('sentiment-analysis')\n",
    "\n",
    "# Define the function to categorize sentiment\n",
    "def analyze_sentiment(review_text):\n",
    "    result = sentiment_model(review_text)\n",
    "    label = result[0]['label']\n",
    "    score = result[0]['score']\n",
    "\n",
    "    # Convert the score into granular sentiment categories\n",
    "    if label == 'POSITIVE':\n",
    "        if score >= 0.9:\n",
    "            sentiment = 'Very Positive'\n",
    "        else:\n",
    "            sentiment = 'Positive'\n",
    "    elif label == 'NEGATIVE':\n",
    "        if score >= 0.9:\n",
    "            sentiment = 'Very Negative'\n",
    "        else:\n",
    "            sentiment = 'Negative'\n",
    "\n",
    "    return sentiment, score\n",
    "\n",
    "my_theme = gr.themes.Default(\n",
    "    primary_hue=gr.themes.colors.green,    # Bright green for primary elements\n",
    "    secondary_hue=gr.themes.colors.teal,   # Teal for secondary elements\n",
    "    neutral_hue=gr.themes.colors.gray      # Neutral gray for other elements\n",
    ")\n",
    "\n",
    "\n",
    "# Interface with custom labels\n",
    "interface = gr.Interface(\n",
    "    fn=analyze_sentiment,\n",
    "    inputs=gr.Textbox(lines=5, placeholder=\"Enter the product review here...\", label= 'User Review'),\n",
    "    outputs=[\n",
    "        gr.Textbox(label=\"Sentiment Category\"),\n",
    "        gr.Label(label=\"Confidence Score\")\n",
    "    ],\n",
    "    title=\"Customer Review Sentiment Analysis\",\n",
    "    description=\"\"\"\n",
    "    This tool analyzes customer product reviews and classifies the sentiment into five categories:\n",
    "    Very Positive, Positive, Neutral, Negative, and Very Negative. Enter a product review to see the sentiment score.\n",
    "    \"\"\",\n",
    "    theme=my_theme  # Use Gradio's dark theme for a more professional look\n",
    ")\n",
    "\n",
    "# Launch the interface\n",
    "interface.launch()\n"
   ]
  },
  {
   "cell_type": "code",
   "execution_count": 10,
   "metadata": {},
   "outputs": [
    {
     "name": "stdout",
     "output_type": "stream",
     "text": [
      "Running on local URL:  http://127.0.0.1:7868\n",
      "\n",
      "To create a public link, set `share=True` in `launch()`.\n"
     ]
    },
    {
     "data": {
      "text/html": [
       "<div><iframe src=\"http://127.0.0.1:7868/\" width=\"100%\" height=\"500\" allow=\"autoplay; camera; microphone; clipboard-read; clipboard-write;\" frameborder=\"0\" allowfullscreen></iframe></div>"
      ],
      "text/plain": [
       "<IPython.core.display.HTML object>"
      ]
     },
     "metadata": {},
     "output_type": "display_data"
    },
    {
     "data": {
      "text/plain": []
     },
     "execution_count": 10,
     "metadata": {},
     "output_type": "execute_result"
    },
    {
     "name": "stderr",
     "output_type": "stream",
     "text": [
      "ERROR:    Exception in ASGI application\n",
      "Traceback (most recent call last):\n",
      "  File \"c:\\Users\\lonni\\anaconda3\\envs\\dev\\lib\\shutil.py\", line 816, in move\n",
      "    os.rename(src, real_dst)\n",
      "FileNotFoundError: [WinError 3] The system cannot find the path specified: 'C:\\\\Users\\\\lonni\\\\AppData\\\\Local\\\\Temp\\\\tmpxa78svq0' -> 'C:\\\\Users\\\\lonni\\\\AppData\\\\Local\\\\Temp\\\\gradio\\\\0e020fbc44f18d4d09c52976a9a7a554529b63f7bf54b2376fad27b359e7ca52\\\\DALLE 2024-10-23 20.00.08 - A simple and clean image representing customer sentiment analysis. The design should have a minimalistic look with just three sentiment indicators_ a.webp'\n",
      "\n",
      "During handling of the above exception, another exception occurred:\n",
      "\n",
      "Traceback (most recent call last):\n",
      "  File \"c:\\Users\\lonni\\anaconda3\\envs\\dev\\lib\\site-packages\\uvicorn\\protocols\\http\\h11_impl.py\", line 406, in run_asgi\n",
      "    result = await app(  # type: ignore[func-returns-value]\n",
      "  File \"c:\\Users\\lonni\\anaconda3\\envs\\dev\\lib\\site-packages\\uvicorn\\middleware\\proxy_headers.py\", line 60, in __call__\n",
      "    return await self.app(scope, receive, send)\n",
      "  File \"c:\\Users\\lonni\\anaconda3\\envs\\dev\\lib\\site-packages\\fastapi\\applications.py\", line 1054, in __call__\n",
      "    await super().__call__(scope, receive, send)\n",
      "  File \"c:\\Users\\lonni\\anaconda3\\envs\\dev\\lib\\site-packages\\starlette\\applications.py\", line 113, in __call__\n",
      "    await self.middleware_stack(scope, receive, send)\n",
      "  File \"c:\\Users\\lonni\\anaconda3\\envs\\dev\\lib\\site-packages\\starlette\\middleware\\errors.py\", line 187, in __call__\n",
      "    raise exc\n",
      "  File \"c:\\Users\\lonni\\anaconda3\\envs\\dev\\lib\\site-packages\\starlette\\middleware\\errors.py\", line 165, in __call__\n",
      "    await self.app(scope, receive, _send)\n",
      "  File \"c:\\Users\\lonni\\anaconda3\\envs\\dev\\lib\\site-packages\\gradio\\route_utils.py\", line 767, in __call__\n",
      "    await self.simple_response(scope, receive, send, request_headers=headers)\n",
      "  File \"c:\\Users\\lonni\\anaconda3\\envs\\dev\\lib\\site-packages\\gradio\\route_utils.py\", line 783, in simple_response\n",
      "    await self.app(scope, receive, send)\n",
      "  File \"c:\\Users\\lonni\\anaconda3\\envs\\dev\\lib\\site-packages\\starlette\\middleware\\exceptions.py\", line 62, in __call__\n",
      "    await wrap_app_handling_exceptions(self.app, conn)(scope, receive, send)\n",
      "  File \"c:\\Users\\lonni\\anaconda3\\envs\\dev\\lib\\site-packages\\starlette\\_exception_handler.py\", line 62, in wrapped_app\n",
      "    raise exc\n",
      "  File \"c:\\Users\\lonni\\anaconda3\\envs\\dev\\lib\\site-packages\\starlette\\_exception_handler.py\", line 51, in wrapped_app\n",
      "    await app(scope, receive, sender)\n",
      "  File \"c:\\Users\\lonni\\anaconda3\\envs\\dev\\lib\\site-packages\\starlette\\routing.py\", line 715, in __call__\n",
      "    await self.middleware_stack(scope, receive, send)\n",
      "  File \"c:\\Users\\lonni\\anaconda3\\envs\\dev\\lib\\site-packages\\starlette\\routing.py\", line 735, in app\n",
      "    await route.handle(scope, receive, send)\n",
      "  File \"c:\\Users\\lonni\\anaconda3\\envs\\dev\\lib\\site-packages\\starlette\\routing.py\", line 288, in handle\n",
      "    await self.app(scope, receive, send)\n",
      "  File \"c:\\Users\\lonni\\anaconda3\\envs\\dev\\lib\\site-packages\\starlette\\routing.py\", line 76, in app\n",
      "    await wrap_app_handling_exceptions(app, request)(scope, receive, send)\n",
      "  File \"c:\\Users\\lonni\\anaconda3\\envs\\dev\\lib\\site-packages\\starlette\\_exception_handler.py\", line 62, in wrapped_app\n",
      "    raise exc\n",
      "  File \"c:\\Users\\lonni\\anaconda3\\envs\\dev\\lib\\site-packages\\starlette\\_exception_handler.py\", line 51, in wrapped_app\n",
      "    await app(scope, receive, sender)\n",
      "  File \"c:\\Users\\lonni\\anaconda3\\envs\\dev\\lib\\site-packages\\starlette\\routing.py\", line 74, in app\n",
      "    await response(scope, receive, send)\n",
      "  File \"c:\\Users\\lonni\\anaconda3\\envs\\dev\\lib\\site-packages\\starlette\\responses.py\", line 156, in __call__\n",
      "    await self.background()\n",
      "  File \"c:\\Users\\lonni\\anaconda3\\envs\\dev\\lib\\site-packages\\starlette\\background.py\", line 41, in __call__\n",
      "    await task()\n",
      "  File \"c:\\Users\\lonni\\anaconda3\\envs\\dev\\lib\\site-packages\\starlette\\background.py\", line 28, in __call__\n",
      "    await run_in_threadpool(self.func, *self.args, **self.kwargs)\n",
      "  File \"c:\\Users\\lonni\\anaconda3\\envs\\dev\\lib\\site-packages\\starlette\\concurrency.py\", line 39, in run_in_threadpool\n",
      "    return await anyio.to_thread.run_sync(func, *args)\n",
      "  File \"c:\\Users\\lonni\\anaconda3\\envs\\dev\\lib\\site-packages\\anyio\\to_thread.py\", line 33, in run_sync\n",
      "    return await get_asynclib().run_sync_in_worker_thread(\n",
      "  File \"c:\\Users\\lonni\\anaconda3\\envs\\dev\\lib\\site-packages\\anyio\\_backends\\_asyncio.py\", line 877, in run_sync_in_worker_thread\n",
      "    return await future\n",
      "  File \"c:\\Users\\lonni\\anaconda3\\envs\\dev\\lib\\site-packages\\anyio\\_backends\\_asyncio.py\", line 807, in run\n",
      "    result = context.run(func, *args)\n",
      "  File \"c:\\Users\\lonni\\anaconda3\\envs\\dev\\lib\\site-packages\\gradio\\route_utils.py\", line 686, in move_uploaded_files_to_cache\n",
      "    shutil.move(file, dest)\n",
      "  File \"c:\\Users\\lonni\\anaconda3\\envs\\dev\\lib\\shutil.py\", line 836, in move\n",
      "    copy_function(src, real_dst)\n",
      "  File \"c:\\Users\\lonni\\anaconda3\\envs\\dev\\lib\\shutil.py\", line 434, in copy2\n",
      "    copyfile(src, dst, follow_symlinks=follow_symlinks)\n",
      "  File \"c:\\Users\\lonni\\anaconda3\\envs\\dev\\lib\\shutil.py\", line 256, in copyfile\n",
      "    with open(dst, 'wb') as fdst:\n",
      "FileNotFoundError: [Errno 2] No such file or directory: 'C:\\\\Users\\\\lonni\\\\AppData\\\\Local\\\\Temp\\\\gradio\\\\0e020fbc44f18d4d09c52976a9a7a554529b63f7bf54b2376fad27b359e7ca52\\\\DALLE 2024-10-23 20.00.08 - A simple and clean image representing customer sentiment analysis. The design should have a minimalistic look with just three sentiment indicators_ a.webp'\n",
      "ERROR:    Exception in ASGI application\n",
      "Traceback (most recent call last):\n",
      "  File \"c:\\Users\\lonni\\anaconda3\\envs\\dev\\lib\\shutil.py\", line 816, in move\n",
      "    os.rename(src, real_dst)\n",
      "FileNotFoundError: [WinError 3] The system cannot find the path specified: 'C:\\\\Users\\\\lonni\\\\AppData\\\\Local\\\\Temp\\\\tmpyt8agike' -> 'C:\\\\Users\\\\lonni\\\\AppData\\\\Local\\\\Temp\\\\gradio\\\\0e020fbc44f18d4d09c52976a9a7a554529b63f7bf54b2376fad27b359e7ca52\\\\DALLE 2024-10-23 20.00.08 - A simple and clean image representing customer sentiment analysis. The design should have a minimalistic look with just three sentiment indicators_ a.webp'\n",
      "\n",
      "During handling of the above exception, another exception occurred:\n",
      "\n",
      "Traceback (most recent call last):\n",
      "  File \"c:\\Users\\lonni\\anaconda3\\envs\\dev\\lib\\site-packages\\uvicorn\\protocols\\http\\h11_impl.py\", line 406, in run_asgi\n",
      "    result = await app(  # type: ignore[func-returns-value]\n",
      "  File \"c:\\Users\\lonni\\anaconda3\\envs\\dev\\lib\\site-packages\\uvicorn\\middleware\\proxy_headers.py\", line 60, in __call__\n",
      "    return await self.app(scope, receive, send)\n",
      "  File \"c:\\Users\\lonni\\anaconda3\\envs\\dev\\lib\\site-packages\\fastapi\\applications.py\", line 1054, in __call__\n",
      "    await super().__call__(scope, receive, send)\n",
      "  File \"c:\\Users\\lonni\\anaconda3\\envs\\dev\\lib\\site-packages\\starlette\\applications.py\", line 113, in __call__\n",
      "    await self.middleware_stack(scope, receive, send)\n",
      "  File \"c:\\Users\\lonni\\anaconda3\\envs\\dev\\lib\\site-packages\\starlette\\middleware\\errors.py\", line 187, in __call__\n",
      "    raise exc\n",
      "  File \"c:\\Users\\lonni\\anaconda3\\envs\\dev\\lib\\site-packages\\starlette\\middleware\\errors.py\", line 165, in __call__\n",
      "    await self.app(scope, receive, _send)\n",
      "  File \"c:\\Users\\lonni\\anaconda3\\envs\\dev\\lib\\site-packages\\gradio\\route_utils.py\", line 767, in __call__\n",
      "    await self.simple_response(scope, receive, send, request_headers=headers)\n",
      "  File \"c:\\Users\\lonni\\anaconda3\\envs\\dev\\lib\\site-packages\\gradio\\route_utils.py\", line 783, in simple_response\n",
      "    await self.app(scope, receive, send)\n",
      "  File \"c:\\Users\\lonni\\anaconda3\\envs\\dev\\lib\\site-packages\\starlette\\middleware\\exceptions.py\", line 62, in __call__\n",
      "    await wrap_app_handling_exceptions(self.app, conn)(scope, receive, send)\n",
      "  File \"c:\\Users\\lonni\\anaconda3\\envs\\dev\\lib\\site-packages\\starlette\\_exception_handler.py\", line 62, in wrapped_app\n",
      "    raise exc\n",
      "  File \"c:\\Users\\lonni\\anaconda3\\envs\\dev\\lib\\site-packages\\starlette\\_exception_handler.py\", line 51, in wrapped_app\n",
      "    await app(scope, receive, sender)\n",
      "  File \"c:\\Users\\lonni\\anaconda3\\envs\\dev\\lib\\site-packages\\starlette\\routing.py\", line 715, in __call__\n",
      "    await self.middleware_stack(scope, receive, send)\n",
      "  File \"c:\\Users\\lonni\\anaconda3\\envs\\dev\\lib\\site-packages\\starlette\\routing.py\", line 735, in app\n",
      "    await route.handle(scope, receive, send)\n",
      "  File \"c:\\Users\\lonni\\anaconda3\\envs\\dev\\lib\\site-packages\\starlette\\routing.py\", line 288, in handle\n",
      "    await self.app(scope, receive, send)\n",
      "  File \"c:\\Users\\lonni\\anaconda3\\envs\\dev\\lib\\site-packages\\starlette\\routing.py\", line 76, in app\n",
      "    await wrap_app_handling_exceptions(app, request)(scope, receive, send)\n",
      "  File \"c:\\Users\\lonni\\anaconda3\\envs\\dev\\lib\\site-packages\\starlette\\_exception_handler.py\", line 62, in wrapped_app\n",
      "    raise exc\n",
      "  File \"c:\\Users\\lonni\\anaconda3\\envs\\dev\\lib\\site-packages\\starlette\\_exception_handler.py\", line 51, in wrapped_app\n",
      "    await app(scope, receive, sender)\n",
      "  File \"c:\\Users\\lonni\\anaconda3\\envs\\dev\\lib\\site-packages\\starlette\\routing.py\", line 74, in app\n",
      "    await response(scope, receive, send)\n",
      "  File \"c:\\Users\\lonni\\anaconda3\\envs\\dev\\lib\\site-packages\\starlette\\responses.py\", line 156, in __call__\n",
      "    await self.background()\n",
      "  File \"c:\\Users\\lonni\\anaconda3\\envs\\dev\\lib\\site-packages\\starlette\\background.py\", line 41, in __call__\n",
      "    await task()\n",
      "  File \"c:\\Users\\lonni\\anaconda3\\envs\\dev\\lib\\site-packages\\starlette\\background.py\", line 28, in __call__\n",
      "    await run_in_threadpool(self.func, *self.args, **self.kwargs)\n",
      "  File \"c:\\Users\\lonni\\anaconda3\\envs\\dev\\lib\\site-packages\\starlette\\concurrency.py\", line 39, in run_in_threadpool\n",
      "    return await anyio.to_thread.run_sync(func, *args)\n",
      "  File \"c:\\Users\\lonni\\anaconda3\\envs\\dev\\lib\\site-packages\\anyio\\to_thread.py\", line 33, in run_sync\n",
      "    return await get_asynclib().run_sync_in_worker_thread(\n",
      "  File \"c:\\Users\\lonni\\anaconda3\\envs\\dev\\lib\\site-packages\\anyio\\_backends\\_asyncio.py\", line 877, in run_sync_in_worker_thread\n",
      "    return await future\n",
      "  File \"c:\\Users\\lonni\\anaconda3\\envs\\dev\\lib\\site-packages\\anyio\\_backends\\_asyncio.py\", line 807, in run\n",
      "    result = context.run(func, *args)\n",
      "  File \"c:\\Users\\lonni\\anaconda3\\envs\\dev\\lib\\site-packages\\gradio\\route_utils.py\", line 686, in move_uploaded_files_to_cache\n",
      "    shutil.move(file, dest)\n",
      "  File \"c:\\Users\\lonni\\anaconda3\\envs\\dev\\lib\\shutil.py\", line 836, in move\n",
      "    copy_function(src, real_dst)\n",
      "  File \"c:\\Users\\lonni\\anaconda3\\envs\\dev\\lib\\shutil.py\", line 434, in copy2\n",
      "    copyfile(src, dst, follow_symlinks=follow_symlinks)\n",
      "  File \"c:\\Users\\lonni\\anaconda3\\envs\\dev\\lib\\shutil.py\", line 256, in copyfile\n",
      "    with open(dst, 'wb') as fdst:\n",
      "FileNotFoundError: [Errno 2] No such file or directory: 'C:\\\\Users\\\\lonni\\\\AppData\\\\Local\\\\Temp\\\\gradio\\\\0e020fbc44f18d4d09c52976a9a7a554529b63f7bf54b2376fad27b359e7ca52\\\\DALLE 2024-10-23 20.00.08 - A simple and clean image representing customer sentiment analysis. The design should have a minimalistic look with just three sentiment indicators_ a.webp'\n"
     ]
    }
   ],
   "source": [
    "gr.themes.builder()"
   ]
  },
  {
   "cell_type": "code",
   "execution_count": 21,
   "metadata": {},
   "outputs": [
    {
     "name": "stderr",
     "output_type": "stream",
     "text": [
      "No model was supplied, defaulted to distilbert/distilbert-base-uncased-finetuned-sst-2-english and revision 714eb0f (https://huggingface.co/distilbert/distilbert-base-uncased-finetuned-sst-2-english).\n",
      "Using a pipeline without specifying a model name and revision in production is not recommended.\n"
     ]
    },
    {
     "name": "stdout",
     "output_type": "stream",
     "text": [
      "Running on local URL:  http://127.0.0.1:7875\n",
      "\n",
      "To create a public link, set `share=True` in `launch()`.\n"
     ]
    },
    {
     "data": {
      "text/html": [
       "<div><iframe src=\"http://127.0.0.1:7875/\" width=\"100%\" height=\"500\" allow=\"autoplay; camera; microphone; clipboard-read; clipboard-write;\" frameborder=\"0\" allowfullscreen></iframe></div>"
      ],
      "text/plain": [
       "<IPython.core.display.HTML object>"
      ]
     },
     "metadata": {},
     "output_type": "display_data"
    },
    {
     "data": {
      "text/plain": []
     },
     "execution_count": 21,
     "metadata": {},
     "output_type": "execute_result"
    }
   ],
   "source": [
    "import gradio as gr\n",
    "from transformers import pipeline\n",
    "\n",
    "# Load the sentiment analysis model\n",
    "sentiment_model = pipeline('sentiment-analysis')\n",
    "\n",
    "# Define the function to categorize sentiment\n",
    "def analyze_sentiment(review_text):\n",
    "    result = sentiment_model(review_text)\n",
    "    label = result[0]['label']\n",
    "    score = result[0]['score']\n",
    "\n",
    "    # Convert the score into granular sentiment categories\n",
    "    if label == 'POSITIVE':\n",
    "        if score >= 0.9:\n",
    "            sentiment = 'Very Positive'\n",
    "        else:\n",
    "            sentiment = 'Positive'\n",
    "    elif label == 'NEGATIVE':\n",
    "        if score >= 0.9:\n",
    "            sentiment = 'Very Negative'\n",
    "        else:\n",
    "            sentiment = 'Negative'\n",
    "\n",
    "    return sentiment, score\n",
    "\n",
    "my_theme = gr.themes.Base(\n",
    "    primary_hue=\"amber\",\n",
    "    secondary_hue=\"neutral\",\n",
    "    neutral_hue=\"stone\",\n",
    "    text_size=\"sm\",\n",
    "    spacing_size=\"sm\",\n",
    "    radius_size=\"sm\",\n",
    "    font=['Optima', 'Candara', 'Noto Sans', 'source-sans-pro'],\n",
    ").set(\n",
    "    body_background_fill_dark='*primary_800',\n",
    "    background_fill_primary_dark='*neutral_700',\n",
    "    background_fill_secondary='*primary_100',\n",
    "    background_fill_secondary_dark='*primary_800',\n",
    "    border_color_primary_dark='*primary_500',\n",
    "    block_background_fill='*primary_50',\n",
    "    block_background_fill_dark='*primary_800',\n",
    "    block_border_width='0px',\n",
    "    block_label_background_fill='*primary_200',\n",
    "    block_label_background_fill_dark='*primary_700',\n",
    "    block_label_text_color='*primary_500',\n",
    "    block_label_text_size='*text_md',\n",
    "    block_label_text_weight='600',\n",
    "    block_shadow='*primary_400 0px 0px 3px 0px',\n",
    "    block_shadow_dark='*primary_400 0px 0px 3px 0px',\n",
    "    block_title_text_color='*primary_500',\n",
    "    block_title_text_weight='600',\n",
    "    panel_border_width='1px',\n",
    "    panel_border_width_dark='1px',\n",
    "    checkbox_background_color_dark='*primary_600',\n",
    "    checkbox_border_width='0px',\n",
    "    checkbox_label_border_width='1px',\n",
    "    input_background_fill='linear-gradient(0deg, *secondary_50 0%, white 100%)',\n",
    "    input_background_fill_dark='*secondary_600',\n",
    "    input_border_color_focus_dark='*primary_400',\n",
    "    input_border_width='1px',\n",
    "    input_border_width_dark='1px',\n",
    "    slider_color='*primary_400',\n",
    "    slider_color_dark='*primary_400',\n",
    "    table_even_background_fill_dark='*neutral_700',\n",
    "    table_odd_background_fill_dark='*neutral_700',\n",
    "    button_border_width='1px',\n",
    "    button_shadow_active='*shadow_inset',\n",
    "    button_primary_background_fill='linear-gradient(180deg, *primary_50 0%, *primary_200 50%, *primary_300 50%, *primary_200 100%)',\n",
    "    button_primary_background_fill_dark='linear-gradient(180deg, *primary_400 0%, *primary_500 50%, *primary_600 50%, *primary_500 100%)',\n",
    "    button_primary_background_fill_hover='linear-gradient(180deg, *primary_100 0%, *primary_200 50%, *primary_300 50%, *primary_200 100%)',\n",
    "    button_primary_background_fill_hover_dark='linear-gradient(180deg, *primary_400 0%, *primary_500 50%, *primary_600 50%, *primary_500 100%)',\n",
    "    button_secondary_background_fill='*button_primary_background_fill',\n",
    "    button_secondary_background_fill_dark='*button_primary_background_fill',\n",
    "    button_secondary_background_fill_hover='*button_primary_background_fill_hover',\n",
    "    button_secondary_background_fill_hover_dark='*button_primary_background_fill_hover',\n",
    "    button_cancel_background_fill='*button_primary_background_fill',\n",
    "    button_cancel_background_fill_dark='*button_primary_background_fill',\n",
    "    button_cancel_background_fill_hover='*button_primary_background_fill_hover',\n",
    "    button_cancel_background_fill_hover_dark='*button_primary_background_fill_hover'\n",
    ")\n",
    "\n",
    "\n",
    "# Interface with custom labels\n",
    "interface = gr.Interface(\n",
    "\n",
    "    fn=analyze_sentiment,\n",
    "    inputs=gr.Textbox(lines=7, placeholder=\"Enter the product review here...\", label= 'User Review'),\n",
    "    outputs=[\n",
    "        gr.Textbox(label=\"Sentiment Category\"),\n",
    "        gr.Label(label=\"Confidence Score\")\n",
    "    ],\n",
    "    title=\"Customer Review Sentiment Analysis\",\n",
    "    description=\"\"\"\n",
    "    This tool analyzes customer product reviews and classifies the sentiment into five categories:\n",
    "    Very Positive, Positive, Neutral, Negative, and Very Negative. Enter a product review to see the sentiment score.\n",
    "    \"\"\",\n",
    "    theme=my_theme  # Use Gradio's dark theme for a more professional look\n",
    ")\n",
    "\n",
    "# Launch the interface\n",
    "interface.launch()\n"
   ]
  },
  {
   "cell_type": "code",
   "execution_count": 18,
   "metadata": {},
   "outputs": [
    {
     "name": "stderr",
     "output_type": "stream",
     "text": [
      "No model was supplied, defaulted to distilbert/distilbert-base-uncased-finetuned-sst-2-english and revision 714eb0f (https://huggingface.co/distilbert/distilbert-base-uncased-finetuned-sst-2-english).\n",
      "Using a pipeline without specifying a model name and revision in production is not recommended.\n"
     ]
    },
    {
     "name": "stdout",
     "output_type": "stream",
     "text": [
      "Running on local URL:  http://127.0.0.1:7872\n",
      "\n",
      "To create a public link, set `share=True` in `launch()`.\n"
     ]
    },
    {
     "data": {
      "text/html": [
       "<div><iframe src=\"http://127.0.0.1:7872/\" width=\"100%\" height=\"500\" allow=\"autoplay; camera; microphone; clipboard-read; clipboard-write;\" frameborder=\"0\" allowfullscreen></iframe></div>"
      ],
      "text/plain": [
       "<IPython.core.display.HTML object>"
      ]
     },
     "metadata": {},
     "output_type": "display_data"
    },
    {
     "data": {
      "text/plain": []
     },
     "execution_count": 18,
     "metadata": {},
     "output_type": "execute_result"
    }
   ],
   "source": [
    "import gradio as gr\n",
    "from transformers import pipeline\n",
    "\n",
    "# Load the sentiment analysis model\n",
    "sentiment_model = pipeline('sentiment-analysis')\n",
    "\n",
    "# Define the function to categorize sentiment\n",
    "def analyze_sentiment(review_text):\n",
    "    result = sentiment_model(review_text)\n",
    "    label = result[0]['label']\n",
    "    score = result[0]['score']\n",
    "\n",
    "    # Convert the score into granular sentiment categories\n",
    "    if label == 'POSITIVE':\n",
    "        if score >= 0.9:\n",
    "            sentiment = 'Very Positive'\n",
    "        else:\n",
    "            sentiment = 'Positive'\n",
    "    elif label == 'NEGATIVE':\n",
    "        if score >= 0.9:\n",
    "            sentiment = 'Very Negative'\n",
    "        else:\n",
    "            sentiment = 'Negative'\n",
    "\n",
    "    return sentiment, score\n",
    "\n",
    "my_theme = gr.themes.Base(\n",
    "    primary_hue=\"amber\",\n",
    "    secondary_hue=\"neutral\",\n",
    "    neutral_hue=\"stone\",\n",
    "    text_size=\"sm\",\n",
    "    spacing_size=\"sm\",\n",
    "    radius_size=\"sm\",\n",
    "    font=['Optima', 'Candara', 'Noto Sans', 'source-sans-pro'],\n",
    ").set(\n",
    "    body_background_fill_dark='*primary_800',\n",
    "    background_fill_primary_dark='*neutral_700',\n",
    "    background_fill_secondary='*primary_100',\n",
    "    background_fill_secondary_dark='*primary_800',\n",
    "    border_color_primary_dark='*primary_500',\n",
    "    block_background_fill='*primary_50',\n",
    "    block_background_fill_dark='*primary_800',\n",
    "    block_border_width='0px',\n",
    "    block_label_background_fill='*primary_200',\n",
    "    block_label_background_fill_dark='*primary_700',\n",
    "    block_label_text_color='*primary_500',\n",
    "    block_label_text_size='*text_md',\n",
    "    block_label_text_weight='600',\n",
    "    block_shadow='*primary_400 0px 0px 3px 0px',\n",
    "    block_shadow_dark='*primary_400 0px 0px 3px 0px',\n",
    "    block_title_text_color='*primary_500',\n",
    "    block_title_text_weight='600',\n",
    "    panel_border_width='1px',\n",
    "    panel_border_width_dark='1px',\n",
    "    checkbox_background_color_dark='*primary_600',\n",
    "    checkbox_border_width='0px',\n",
    "    checkbox_label_border_width='1px',\n",
    "    input_background_fill='linear-gradient(0deg, *secondary_50 0%, white 100%)',\n",
    "    input_background_fill_dark='*secondary_600',\n",
    "    input_border_color_focus_dark='*primary_400',\n",
    "    input_border_width='1px',\n",
    "    input_border_width_dark='1px',\n",
    "    slider_color='*primary_400',\n",
    "    slider_color_dark='*primary_400',\n",
    "    table_even_background_fill_dark='*neutral_700',\n",
    "    table_odd_background_fill_dark='*neutral_700',\n",
    "    button_border_width='1px',\n",
    "    button_shadow_active='*shadow_inset',\n",
    "    button_primary_background_fill='linear-gradient(180deg, *primary_50 0%, *primary_200 50%, *primary_300 50%, *primary_200 100%)',\n",
    "    button_primary_background_fill_dark='linear-gradient(180deg, *primary_400 0%, *primary_500 50%, *primary_600 50%, *primary_500 100%)',\n",
    "    button_primary_background_fill_hover='linear-gradient(180deg, *primary_100 0%, *primary_200 50%, *primary_300 50%, *primary_200 100%)',\n",
    "    button_primary_background_fill_hover_dark='linear-gradient(180deg, *primary_400 0%, *primary_500 50%, *primary_600 50%, *primary_500 100%)',\n",
    "    button_secondary_background_fill='*button_primary_background_fill',\n",
    "    button_secondary_background_fill_dark='*button_primary_background_fill',\n",
    "    button_secondary_background_fill_hover='*button_primary_background_fill_hover',\n",
    "    button_secondary_background_fill_hover_dark='*button_primary_background_fill_hover',\n",
    "    button_cancel_background_fill='*button_primary_background_fill',\n",
    "    button_cancel_background_fill_dark='*button_primary_background_fill',\n",
    "    button_cancel_background_fill_hover='*button_primary_background_fill_hover',\n",
    "    button_cancel_background_fill_hover_dark='*button_primary_background_fill_hover'\n",
    ")\n",
    "\n",
    "# Use gr.Blocks to properly layout the video and other elements\n",
    "with gr.Blocks(theme=my_theme) as interface:\n",
    "    # Add the video\n",
    "    gr.Video(value=\"https://huggingface.co/datasets/huggingface/GradioAssets/resolve/main/earth.mp4\", \n",
    "             format=\"mp4\", loop=True, autoplay=True)\n",
    "\n",
    "    # Add the input/output components\n",
    "    gr.Markdown(\"# Customer Review Sentiment Analysis\")\n",
    "    gr.Markdown(\"\"\"\n",
    "    This tool analyzes customer product reviews and classifies the sentiment into five categories:\n",
    "    Very Positive, Positive, Neutral, Negative, and Very Negative. Enter a product review to see the sentiment score.\n",
    "    \"\"\")\n",
    "    \n",
    "    review_textbox = gr.Textbox(lines=5, placeholder=\"Enter the product review here...\", label=\"User Review\")\n",
    "    sentiment_output = gr.Textbox(label=\"Sentiment Category\")\n",
    "    confidence_output = gr.Label(label=\"Confidence Score\")\n",
    "    \n",
    "    # Button to trigger the sentiment analysis function\n",
    "    gr.Button(\"Analyze\").click(analyze_sentiment, inputs=review_textbox, outputs=[sentiment_output, confidence_output])\n",
    "\n",
    "# Launch the interface\n",
    "interface.launch()\n"
   ]
  },
  {
   "cell_type": "code",
   "execution_count": 19,
   "metadata": {},
   "outputs": [
    {
     "name": "stderr",
     "output_type": "stream",
     "text": [
      "No model was supplied, defaulted to distilbert/distilbert-base-uncased-finetuned-sst-2-english and revision 714eb0f (https://huggingface.co/distilbert/distilbert-base-uncased-finetuned-sst-2-english).\n",
      "Using a pipeline without specifying a model name and revision in production is not recommended.\n"
     ]
    },
    {
     "name": "stdout",
     "output_type": "stream",
     "text": [
      "Running on local URL:  http://127.0.0.1:7873\n",
      "\n",
      "To create a public link, set `share=True` in `launch()`.\n"
     ]
    },
    {
     "data": {
      "text/html": [
       "<div><iframe src=\"http://127.0.0.1:7873/\" width=\"100%\" height=\"500\" allow=\"autoplay; camera; microphone; clipboard-read; clipboard-write;\" frameborder=\"0\" allowfullscreen></iframe></div>"
      ],
      "text/plain": [
       "<IPython.core.display.HTML object>"
      ]
     },
     "metadata": {},
     "output_type": "display_data"
    },
    {
     "data": {
      "text/plain": []
     },
     "execution_count": 19,
     "metadata": {},
     "output_type": "execute_result"
    }
   ],
   "source": [
    "import gradio as gr\n",
    "from transformers import pipeline\n",
    "\n",
    "# Load the sentiment analysis model\n",
    "sentiment_model = pipeline('sentiment-analysis')\n",
    "\n",
    "# Define the function to categorize sentiment\n",
    "def analyze_sentiment(review_text):\n",
    "    result = sentiment_model(review_text)\n",
    "    label = result[0]['label']\n",
    "    score = result[0]['score']\n",
    "\n",
    "    # Convert the score into granular sentiment categories\n",
    "    if label == 'POSITIVE':\n",
    "        if score >= 0.9:\n",
    "            sentiment = 'Very Positive'\n",
    "        else:\n",
    "            sentiment = 'Positive'\n",
    "    elif label == 'NEGATIVE':\n",
    "        if score >= 0.9:\n",
    "            sentiment = 'Very Negative'\n",
    "        else:\n",
    "            sentiment = 'Negative'\n",
    "\n",
    "    return sentiment, score\n",
    "\n",
    "my_theme = gr.themes.Base(\n",
    "    primary_hue=\"blue\",\n",
    "    secondary_hue=\"neutral\",\n",
    "    neutral_hue=\"stone\",\n",
    "    text_size=\"sm\",\n",
    "    spacing_size=\"sm\",\n",
    "    radius_size=\"sm\",\n",
    "    font=['Optima', 'Candara', 'Noto Sans', 'source-sans-pro'],\n",
    ").set(\n",
    "    body_background_fill_dark='*primary_800',\n",
    "    background_fill_primary_dark='*neutral_700',\n",
    "    background_fill_secondary='*primary_100',\n",
    "    background_fill_secondary_dark='*primary_800',\n",
    "    border_color_primary_dark='*primary_500',\n",
    "    block_background_fill='*primary_50',\n",
    "    block_background_fill_dark='*primary_800',\n",
    "    block_border_width='0px',\n",
    "    block_label_background_fill='*primary_200',\n",
    "    block_label_background_fill_dark='*primary_700',\n",
    "    block_label_text_color='*primary_500',\n",
    "    block_label_text_size='*text_md',\n",
    "    block_label_text_weight='600',\n",
    "    block_shadow='*primary_400 0px 0px 3px 0px',\n",
    "    block_shadow_dark='*primary_400 0px 0px 3px 0px',\n",
    "    block_title_text_color='*primary_500',\n",
    "    block_title_text_weight='600',\n",
    "    panel_border_width='1px',\n",
    "    panel_border_width_dark='1px',\n",
    "    checkbox_background_color_dark='*primary_600',\n",
    "    checkbox_border_width='0px',\n",
    "    checkbox_label_border_width='1px',\n",
    "    input_background_fill='linear-gradient(0deg, *secondary_50 0%, white 100%)',\n",
    "    input_background_fill_dark='*secondary_600',\n",
    "    input_border_color_focus_dark='*primary_400',\n",
    "    input_border_width='1px',\n",
    "    input_border_width_dark='1px',\n",
    "    slider_color='*primary_400',\n",
    "    slider_color_dark='*primary_400',\n",
    "    table_even_background_fill_dark='*neutral_700',\n",
    "    table_odd_background_fill_dark='*neutral_700',\n",
    "    button_border_width='1px',\n",
    "    button_shadow_active='*shadow_inset',\n",
    "    button_primary_background_fill='linear-gradient(180deg, *primary_50 0%, *primary_200 50%, *primary_300 50%, *primary_200 100%)',\n",
    "    button_primary_background_fill_dark='linear-gradient(180deg, *primary_400 0%, *primary_500 50%, *primary_600 50%, *primary_500 100%)',\n",
    "    button_primary_background_fill_hover='linear-gradient(180deg, *primary_100 0%, *primary_200 50%, *primary_300 50%, *primary_200 100%)',\n",
    "    button_primary_background_fill_hover_dark='linear-gradient(180deg, *primary_400 0%, *primary_500 50%, *primary_600 50%, *primary_500 100%)',\n",
    "    button_secondary_background_fill='*button_primary_background_fill',\n",
    "    button_secondary_background_fill_dark='*button_primary_background_fill',\n",
    "    button_secondary_background_fill_hover='*button_primary_background_fill_hover',\n",
    "    button_secondary_background_fill_hover_dark='*button_primary_background_fill_hover',\n",
    "    button_cancel_background_fill='*button_primary_background_fill',\n",
    "    button_cancel_background_fill_dark='*button_primary_background_fill',\n",
    "    button_cancel_background_fill_hover='*button_primary_background_fill_hover',\n",
    "    button_cancel_background_fill_hover_dark='*button_primary_background_fill_hover'\n",
    ")\n",
    "\n",
    "# Use gr.Blocks to properly layout the video and other elements\n",
    "with gr.Blocks(theme=my_theme) as interface:\n",
    "\n",
    "    # input/output components\n",
    "    gr.Markdown(\"# Customer Review Sentiment Analysis\")\n",
    "    gr.Markdown(\"\"\"\n",
    "    This tool analyzes customer product reviews and classifies the sentiment into five categories:\n",
    "    Very Positive, Positive, Neutral, Negative, and Very Negative. Enter a product review to see the sentiment score.\n",
    "    \"\"\")\n",
    "    \n",
    "    review_textbox = gr.Textbox(lines=5, placeholder=\"Enter the product review here...\", label=\"User Review\")\n",
    "    sentiment_output = gr.Textbox(label=\"Sentiment Category\")\n",
    "    confidence_output = gr.Label(label=\"Confidence Score\")\n",
    "    \n",
    "    # Button to trigger the sentiment analysis function\n",
    "    gr.Button(\"Analyze\").click(analyze_sentiment, inputs=review_textbox, outputs=[sentiment_output, confidence_output])\n",
    "\n",
    "# Launch the interface\n",
    "interface.launch()\n"
   ]
  },
  {
   "cell_type": "code",
   "execution_count": null,
   "metadata": {},
   "outputs": [],
   "source": [
    "import gradio as gr\n",
    "import openai  # Ensure openai library is installed and configured\n",
    "\n",
    "# List of product types for the dropdown\n",
    "product_types = [\n",
    "    'All-in-One Combination Washers & Dryers', 'Dishwashers', 'Slide-In Ranges', \n",
    "    'Upright Freezers', 'Kegerators', 'Freezers', 'Countertop Dishwashers', \n",
    "    'Ranges', 'Single Wall Ovens', 'Laundry Appliances', 'Portable Dryers', \n",
    "    'Range Hoods', 'Double Wall Ovens', 'Cooktops', 'Ice Makers', \n",
    "    'Ovens & Cooktops', 'Combination Microwave & Wall Ovens', \n",
    "    'Freestanding Ranges', 'Portable Dishwashers', 'Chest Freezers', \n",
    "    'Refrigerators', 'Beverage Refrigerators', 'Washers', 'Dryers', \n",
    "    'Built-In Dishwashers', 'Washers & Dryers', 'Appliances', 'Portable Washers', \n",
    "    'Stacked Washer & Dryer Units', 'Freezers & Ice Makers', 'Wall Ovens'\n",
    "]\n",
    "\n",
    "# Define the function to call ChatGPT API and get a response\n",
    "def get_sales_pitch(product_type):\n",
    "    print(\"not\")\n",
    "\n",
    "# Gradio Interface\n",
    "def gradio_interface(product_type):\n",
    "    best_pitch, worst_pitch = get_sales_pitch(product_type)\n",
    "    return f\"**Best Product Pitch:**\\n{best_pitch}\\n\\n**Worst Product Recommendation:**\\n{worst_pitch}\"\n",
    "\n",
    "# Define Gradio input/output components\n",
    "with gr.Blocks() as demo:\n",
    "    gr.Markdown(\"### Product Sales Pitch Generator\")\n",
    "    product_type = gr.Dropdown(choices=product_types, label=\"Select Product Category\")\n",
    "    output = gr.Textbox(label=\"Generated Sales Pitches\", interactive=False)\n",
    "    generate_button = gr.Button(\"Generate Pitch\")\n",
    "    \n",
    "    generate_button.click(gradio_interface, inputs=product_type, outputs=output)\n",
    "\n",
    "# Launch the app\n",
    "demo.launch()\n"
   ]
  },
  {
   "cell_type": "code",
   "execution_count": null,
   "metadata": {},
   "outputs": [],
   "source": []
  }
 ],
 "metadata": {
  "kernelspec": {
   "display_name": "dev",
   "language": "python",
   "name": "python3"
  },
  "language_info": {
   "codemirror_mode": {
    "name": "ipython",
    "version": 3
   },
   "file_extension": ".py",
   "mimetype": "text/x-python",
   "name": "python",
   "nbconvert_exporter": "python",
   "pygments_lexer": "ipython3",
   "version": "3.10.14"
  }
 },
 "nbformat": 4,
 "nbformat_minor": 2
}
